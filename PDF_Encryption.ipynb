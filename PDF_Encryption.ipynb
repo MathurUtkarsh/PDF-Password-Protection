{
  "nbformat": 4,
  "nbformat_minor": 0,
  "metadata": {
    "colab": {
      "provenance": [],
      "authorship_tag": "ABX9TyOWd6a+SZWI7kq5ndGCf3rU"
    },
    "kernelspec": {
      "name": "python3",
      "display_name": "Python 3"
    },
    "language_info": {
      "name": "python"
    }
  },
  "cells": [
    {
      "cell_type": "code",
      "execution_count": null,
      "metadata": {
        "colab": {
          "base_uri": "https://localhost:8080/"
        },
        "id": "hg7TDbJMqCsP",
        "outputId": "593039ac-a7ad-4ddf-a30e-b4aef3a853e0"
      },
      "outputs": [
        {
          "output_type": "stream",
          "name": "stdout",
          "text": [
            "Looking in indexes: https://pypi.org/simple, https://us-python.pkg.dev/colab-wheels/public/simple/\n",
            "Requirement already satisfied: PyPDF2 in /usr/local/lib/python3.8/dist-packages (2.11.2)\n",
            "Requirement already satisfied: typing_extensions>=3.10.0.0 in /usr/local/lib/python3.8/dist-packages (from PyPDF2) (4.1.1)\n"
          ]
        }
      ],
      "source": [
        "!pip install PyPDF2"
      ]
    },
    {
      "cell_type": "code",
      "source": [
        "from PyPDF2 import PdfFileReader,PdfFileWriter"
      ],
      "metadata": {
        "id": "5dXcAZFTqIT8"
      },
      "execution_count": null,
      "outputs": []
    },
    {
      "cell_type": "code",
      "source": [
        "### open the current pdf\n",
        "file_pdf=PdfFileReader('Book.pdf')\n",
        "### object for pdf writer\n",
        "out_pdf=PdfFileWriter()"
      ],
      "metadata": {
        "id": "gZ2aajePqKsV"
      },
      "execution_count": null,
      "outputs": []
    },
    {
      "cell_type": "code",
      "source": [
        "file_pdf"
      ],
      "metadata": {
        "colab": {
          "base_uri": "https://localhost:8080/"
        },
        "id": "GgGfyKryqMLI",
        "outputId": "12669722-06dd-40ce-83ed-19f87a175c8a"
      },
      "execution_count": null,
      "outputs": [
        {
          "output_type": "execute_result",
          "data": {
            "text/plain": [
              "<PyPDF2._reader.PdfFileReader at 0x7f2539828160>"
            ]
          },
          "metadata": {},
          "execution_count": 11
        }
      ]
    },
    {
      "cell_type": "code",
      "source": [
        "for i in range(file_pdf.numPages):\n",
        "    page_details=file_pdf.getPage(i)\n",
        "    ### Add to the output page\n",
        "    out_pdf.addPage(page_details)"
      ],
      "metadata": {
        "id": "cGJ85Ay1qPC3"
      },
      "execution_count": null,
      "outputs": []
    },
    {
      "cell_type": "code",
      "source": [
        "password=\"Utkarsh@123\"\n",
        "\n",
        "out_pdf.encrypt(password)"
      ],
      "metadata": {
        "id": "9nlXOJRwqtq0"
      },
      "execution_count": null,
      "outputs": []
    },
    {
      "cell_type": "code",
      "source": [
        "with open(\"EncryptedBook.pdf\",\"wb\") as filename:\n",
        "    out_pdf.write(filename)"
      ],
      "metadata": {
        "id": "13k4HjnLqy1U"
      },
      "execution_count": null,
      "outputs": []
    }
  ]
}